{
  "nbformat": 4,
  "nbformat_minor": 0,
  "metadata": {
    "colab": {
      "name": "evolution_metrics.ipynb",
      "provenance": [],
      "collapsed_sections": []
    },
    "kernelspec": {
      "name": "python3",
      "display_name": "Python 3"
    },
    "language_info": {
      "name": "python"
    },
    "accelerator": "TPU"
  },
  "cells": [
    {
      "cell_type": "code",
      "metadata": {
        "id": "GwyIRJdx3nSM"
      },
      "source": [
        "import os\n",
        "import numpy as np\n",
        "from tensorflow.keras.preprocessing.image import load_img, img_to_array\n",
        "from skimage.metrics import peak_signal_noise_ratio as psnr\n",
        "from skimage.metrics import structural_similarity as ssim"
      ],
      "execution_count": 1,
      "outputs": []
    },
    {
      "cell_type": "code",
      "metadata": {
        "id": "eVZA6Mc_5Hna"
      },
      "source": [
        "test_path = 'drive/MyDrive/Summer_internships/Transfert/Datasets/Compressed/test_128.npz'\n",
        "generated_path = 'drive/MyDrive/Summer_internships/Transfert/Results/CycleGAN/ResUnet6'"
      ],
      "execution_count": 2,
      "outputs": []
    },
    {
      "cell_type": "code",
      "metadata": {
        "id": "Sh3qwkkI5EMP"
      },
      "source": [
        "def load_data(test_p, gen_p):\n",
        "  gen_images = []\n",
        "  im_paths = []\n",
        "  y = np.load(test_p)\n",
        "  test_images = y['arr_1']\n",
        "  for x in os.listdir(gen_p):\n",
        "    im_path = gen_p + '/' + x\n",
        "    im_paths.append(im_path)\n",
        "  im_paths.sort()\n",
        "  for x in im_paths:\n",
        "    im = load_img(x)\n",
        "    im = img_to_array(im)\n",
        "    gen_images.append(im)\n",
        "  return np.asarray(test_images), np.asarray(gen_images)"
      ],
      "execution_count": 3,
      "outputs": []
    },
    {
      "cell_type": "code",
      "metadata": {
        "id": "9sS2nOKW6MQM"
      },
      "source": [
        "real, gen = load_data(test_path, generated_path)"
      ],
      "execution_count": 4,
      "outputs": []
    },
    {
      "cell_type": "code",
      "metadata": {
        "colab": {
          "base_uri": "https://localhost:8080/"
        },
        "id": "Pwy-X-bfBiXC",
        "outputId": "c302da7b-5636-49ca-864c-0f27d0fb3784"
      },
      "source": [
        "print('loaded: ',real.shape, gen.shape)"
      ],
      "execution_count": 5,
      "outputs": [
        {
          "output_type": "stream",
          "text": [
            "loaded:  (100, 128, 128, 3) (100, 128, 128, 3)\n"
          ],
          "name": "stdout"
        }
      ]
    },
    {
      "cell_type": "code",
      "metadata": {
        "id": "DtyDXjdw9JSa"
      },
      "source": [
        "psnr(real, gen, data_range=255)"
      ],
      "execution_count": null,
      "outputs": []
    },
    {
      "cell_type": "code",
      "metadata": {
        "id": "yyxxEtNU9OI0"
      },
      "source": [
        "ssim(real, gen, data_range=255, multichannel=True)"
      ],
      "execution_count": null,
      "outputs": []
    },
    {
      "cell_type": "markdown",
      "metadata": {
        "id": "dJDZut3jAoSX"
      },
      "source": [
        "##Results:\n",
        "\n",
        "####p2p-Unet128\n",
        "*   psnr : 16.38032517976449\n",
        "*   ssim : 0.46536092340325313\n",
        "\n",
        "####p2p-Unet256\n",
        "*   psnr : 19.760494607271095\n",
        "*   ssim : 0.534526309941903\n",
        "\n",
        "####p2p-ResUnet6\n",
        "*   psnr : 15.804350330166876\n",
        "*   ssim : 0.5021237012006029\n",
        "\n",
        "####p2p-ResUnet9\n",
        "*   psnr : 16.314461844061157\n",
        "*   ssim : 0.4434368234063471\n",
        "\n",
        "####cycle-ResUnet6\n",
        "*   psnr : 15.900406602736172\n",
        "*   ssim : 0.5195646657576969\n"
      ]
    }
  ]
}