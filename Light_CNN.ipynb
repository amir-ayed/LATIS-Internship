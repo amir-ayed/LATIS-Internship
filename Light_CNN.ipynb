{
  "nbformat": 4,
  "nbformat_minor": 0,
  "metadata": {
    "colab": {
      "name": "Light_CNN.ipynb",
      "provenance": [],
      "collapsed_sections": []
    },
    "kernelspec": {
      "name": "python3",
      "display_name": "Python 3"
    },
    "language_info": {
      "name": "python"
    },
    "accelerator": "GPU"
  },
  "cells": [
    {
      "cell_type": "code",
      "metadata": {
        "colab": {
          "base_uri": "https://localhost:8080/"
        },
        "id": "E_XaFUbM_xh-",
        "outputId": "d7c7af2d-c129-430f-c93f-03e44c30a6e8"
      },
      "source": [
        "%cd /content/drive/MyDrive"
      ],
      "execution_count": 1,
      "outputs": [
        {
          "output_type": "stream",
          "name": "stdout",
          "text": [
            "/content/drive/MyDrive\n"
          ]
        }
      ]
    },
    {
      "cell_type": "markdown",
      "metadata": {
        "id": "8HxavjZDsHG3"
      },
      "source": [
        "### uncomment the cell below if you're running it for the first time"
      ]
    },
    {
      "cell_type": "code",
      "metadata": {
        "colab": {
          "base_uri": "https://localhost:8080/"
        },
        "id": "1tnWwwci__WG",
        "outputId": "7dcac7d9-131f-46a1-e108-e01a0a95d5c3"
      },
      "source": [
        "# !git clone https://github.com/yh-iro/Keras_LightCNN.git"
      ],
      "execution_count": null,
      "outputs": [
        {
          "output_type": "stream",
          "text": [
            "Cloning into 'Keras_LightCNN'...\n",
            "remote: Enumerating objects: 17, done.\u001b[K\n",
            "remote: Total 17 (delta 0), reused 0 (delta 0), pack-reused 17\u001b[K\n",
            "Unpacking objects: 100% (17/17), done.\n"
          ],
          "name": "stdout"
        }
      ]
    },
    {
      "cell_type": "code",
      "metadata": {
        "colab": {
          "base_uri": "https://localhost:8080/"
        },
        "id": "OhFMR-LyADcl",
        "outputId": "14cfd37d-2011-44dc-819a-314fb67f639b"
      },
      "source": [
        "%cd Keras_LightCNN"
      ],
      "execution_count": 2,
      "outputs": [
        {
          "output_type": "stream",
          "name": "stdout",
          "text": [
            "/content/drive/MyDrive/Keras_LightCNN\n"
          ]
        }
      ]
    },
    {
      "cell_type": "markdown",
      "metadata": {
        "id": "weZn756psgxe"
      },
      "source": [
        "### downgrading modules versions"
      ]
    },
    {
      "cell_type": "code",
      "metadata": {
        "id": "1QZnU35GAHC1",
        "colab": {
          "base_uri": "https://localhost:8080/"
        },
        "outputId": "81d14709-2fcb-4490-a4a1-b09af4a6e7d8"
      },
      "source": [
        "!pip install Tensorflow==1.15.0"
      ],
      "execution_count": 3,
      "outputs": [
        {
          "output_type": "stream",
          "name": "stdout",
          "text": [
            "Collecting Tensorflow==1.15.0\n",
            "  Downloading tensorflow-1.15.0-cp37-cp37m-manylinux2010_x86_64.whl (412.3 MB)\n",
            "\u001b[K     |████████████████████████████████| 412.3 MB 27 kB/s \n",
            "\u001b[?25hRequirement already satisfied: absl-py>=0.7.0 in /usr/local/lib/python3.7/dist-packages (from Tensorflow==1.15.0) (0.12.0)\n",
            "Collecting tensorboard<1.16.0,>=1.15.0\n",
            "  Downloading tensorboard-1.15.0-py3-none-any.whl (3.8 MB)\n",
            "\u001b[K     |████████████████████████████████| 3.8 MB 34.3 MB/s \n",
            "\u001b[?25hRequirement already satisfied: wheel>=0.26 in /usr/local/lib/python3.7/dist-packages (from Tensorflow==1.15.0) (0.37.0)\n",
            "Requirement already satisfied: google-pasta>=0.1.6 in /usr/local/lib/python3.7/dist-packages (from Tensorflow==1.15.0) (0.2.0)\n",
            "Requirement already satisfied: astor>=0.6.0 in /usr/local/lib/python3.7/dist-packages (from Tensorflow==1.15.0) (0.8.1)\n",
            "Collecting gast==0.2.2\n",
            "  Downloading gast-0.2.2.tar.gz (10 kB)\n",
            "Requirement already satisfied: grpcio>=1.8.6 in /usr/local/lib/python3.7/dist-packages (from Tensorflow==1.15.0) (1.39.0)\n",
            "Requirement already satisfied: termcolor>=1.1.0 in /usr/local/lib/python3.7/dist-packages (from Tensorflow==1.15.0) (1.1.0)\n",
            "Requirement already satisfied: six>=1.10.0 in /usr/local/lib/python3.7/dist-packages (from Tensorflow==1.15.0) (1.15.0)\n",
            "Requirement already satisfied: protobuf>=3.6.1 in /usr/local/lib/python3.7/dist-packages (from Tensorflow==1.15.0) (3.17.3)\n",
            "Requirement already satisfied: wrapt>=1.11.1 in /usr/local/lib/python3.7/dist-packages (from Tensorflow==1.15.0) (1.12.1)\n",
            "Collecting keras-applications>=1.0.8\n",
            "  Downloading Keras_Applications-1.0.8-py3-none-any.whl (50 kB)\n",
            "\u001b[K     |████████████████████████████████| 50 kB 6.1 MB/s \n",
            "\u001b[?25hCollecting tensorflow-estimator==1.15.1\n",
            "  Downloading tensorflow_estimator-1.15.1-py2.py3-none-any.whl (503 kB)\n",
            "\u001b[K     |████████████████████████████████| 503 kB 50.7 MB/s \n",
            "\u001b[?25hRequirement already satisfied: keras-preprocessing>=1.0.5 in /usr/local/lib/python3.7/dist-packages (from Tensorflow==1.15.0) (1.1.2)\n",
            "Requirement already satisfied: opt-einsum>=2.3.2 in /usr/local/lib/python3.7/dist-packages (from Tensorflow==1.15.0) (3.3.0)\n",
            "Requirement already satisfied: numpy<2.0,>=1.16.0 in /usr/local/lib/python3.7/dist-packages (from Tensorflow==1.15.0) (1.19.5)\n",
            "Requirement already satisfied: h5py in /usr/local/lib/python3.7/dist-packages (from keras-applications>=1.0.8->Tensorflow==1.15.0) (2.10.0)\n",
            "Requirement already satisfied: werkzeug>=0.11.15 in /usr/local/lib/python3.7/dist-packages (from tensorboard<1.16.0,>=1.15.0->Tensorflow==1.15.0) (1.0.1)\n",
            "Requirement already satisfied: setuptools>=41.0.0 in /usr/local/lib/python3.7/dist-packages (from tensorboard<1.16.0,>=1.15.0->Tensorflow==1.15.0) (57.4.0)\n",
            "Requirement already satisfied: markdown>=2.6.8 in /usr/local/lib/python3.7/dist-packages (from tensorboard<1.16.0,>=1.15.0->Tensorflow==1.15.0) (3.3.4)\n",
            "Requirement already satisfied: importlib-metadata in /usr/local/lib/python3.7/dist-packages (from markdown>=2.6.8->tensorboard<1.16.0,>=1.15.0->Tensorflow==1.15.0) (4.6.4)\n",
            "Requirement already satisfied: typing-extensions>=3.6.4 in /usr/local/lib/python3.7/dist-packages (from importlib-metadata->markdown>=2.6.8->tensorboard<1.16.0,>=1.15.0->Tensorflow==1.15.0) (3.7.4.3)\n",
            "Requirement already satisfied: zipp>=0.5 in /usr/local/lib/python3.7/dist-packages (from importlib-metadata->markdown>=2.6.8->tensorboard<1.16.0,>=1.15.0->Tensorflow==1.15.0) (3.5.0)\n",
            "Building wheels for collected packages: gast\n",
            "  Building wheel for gast (setup.py) ... \u001b[?25l\u001b[?25hdone\n",
            "  Created wheel for gast: filename=gast-0.2.2-py3-none-any.whl size=7554 sha256=67857157cd257ee79bc9f9e4ab88ec1c66737279edc3f9b52a8464242ee30c0b\n",
            "  Stored in directory: /root/.cache/pip/wheels/21/7f/02/420f32a803f7d0967b48dd823da3f558c5166991bfd204eef3\n",
            "Successfully built gast\n",
            "Installing collected packages: tensorflow-estimator, tensorboard, keras-applications, gast, Tensorflow\n",
            "  Attempting uninstall: tensorflow-estimator\n",
            "    Found existing installation: tensorflow-estimator 2.6.0\n",
            "    Uninstalling tensorflow-estimator-2.6.0:\n",
            "      Successfully uninstalled tensorflow-estimator-2.6.0\n",
            "  Attempting uninstall: tensorboard\n",
            "    Found existing installation: tensorboard 2.6.0\n",
            "    Uninstalling tensorboard-2.6.0:\n",
            "      Successfully uninstalled tensorboard-2.6.0\n",
            "  Attempting uninstall: gast\n",
            "    Found existing installation: gast 0.4.0\n",
            "    Uninstalling gast-0.4.0:\n",
            "      Successfully uninstalled gast-0.4.0\n",
            "  Attempting uninstall: Tensorflow\n",
            "    Found existing installation: tensorflow 2.6.0\n",
            "    Uninstalling tensorflow-2.6.0:\n",
            "      Successfully uninstalled tensorflow-2.6.0\n",
            "\u001b[31mERROR: pip's dependency resolver does not currently take into account all the packages that are installed. This behaviour is the source of the following dependency conflicts.\n",
            "tensorflow-probability 0.13.0 requires gast>=0.3.2, but you have gast 0.2.2 which is incompatible.\n",
            "kapre 0.3.5 requires tensorflow>=2.0.0, but you have tensorflow 1.15.0 which is incompatible.\u001b[0m\n",
            "Successfully installed Tensorflow-1.15.0 gast-0.2.2 keras-applications-1.0.8 tensorboard-1.15.0 tensorflow-estimator-1.15.1\n"
          ]
        }
      ]
    },
    {
      "cell_type": "code",
      "metadata": {
        "id": "a2LStzK3APoc",
        "colab": {
          "base_uri": "https://localhost:8080/"
        },
        "outputId": "ad81deb3-6088-49c7-8118-55f5678d2dff"
      },
      "source": [
        "!pip install Keras==2.1.3"
      ],
      "execution_count": 4,
      "outputs": [
        {
          "output_type": "stream",
          "name": "stdout",
          "text": [
            "Collecting Keras==2.1.3\n",
            "  Downloading Keras-2.1.3-py2.py3-none-any.whl (319 kB)\n",
            "\u001b[?25l\r\u001b[K     |█                               | 10 kB 27.5 MB/s eta 0:00:01\r\u001b[K     |██                              | 20 kB 22.3 MB/s eta 0:00:01\r\u001b[K     |███                             | 30 kB 16.4 MB/s eta 0:00:01\r\u001b[K     |████                            | 40 kB 14.7 MB/s eta 0:00:01\r\u001b[K     |█████▏                          | 51 kB 5.5 MB/s eta 0:00:01\r\u001b[K     |██████▏                         | 61 kB 5.9 MB/s eta 0:00:01\r\u001b[K     |███████▏                        | 71 kB 5.5 MB/s eta 0:00:01\r\u001b[K     |████████▏                       | 81 kB 6.1 MB/s eta 0:00:01\r\u001b[K     |█████████▎                      | 92 kB 6.1 MB/s eta 0:00:01\r\u001b[K     |██████████▎                     | 102 kB 5.3 MB/s eta 0:00:01\r\u001b[K     |███████████▎                    | 112 kB 5.3 MB/s eta 0:00:01\r\u001b[K     |████████████▎                   | 122 kB 5.3 MB/s eta 0:00:01\r\u001b[K     |█████████████▎                  | 133 kB 5.3 MB/s eta 0:00:01\r\u001b[K     |██████████████▍                 | 143 kB 5.3 MB/s eta 0:00:01\r\u001b[K     |███████████████▍                | 153 kB 5.3 MB/s eta 0:00:01\r\u001b[K     |████████████████▍               | 163 kB 5.3 MB/s eta 0:00:01\r\u001b[K     |█████████████████▍              | 174 kB 5.3 MB/s eta 0:00:01\r\u001b[K     |██████████████████▌             | 184 kB 5.3 MB/s eta 0:00:01\r\u001b[K     |███████████████████▌            | 194 kB 5.3 MB/s eta 0:00:01\r\u001b[K     |████████████████████▌           | 204 kB 5.3 MB/s eta 0:00:01\r\u001b[K     |█████████████████████▌          | 215 kB 5.3 MB/s eta 0:00:01\r\u001b[K     |██████████████████████▋         | 225 kB 5.3 MB/s eta 0:00:01\r\u001b[K     |███████████████████████▋        | 235 kB 5.3 MB/s eta 0:00:01\r\u001b[K     |████████████████████████▋       | 245 kB 5.3 MB/s eta 0:00:01\r\u001b[K     |█████████████████████████▋      | 256 kB 5.3 MB/s eta 0:00:01\r\u001b[K     |██████████████████████████▋     | 266 kB 5.3 MB/s eta 0:00:01\r\u001b[K     |███████████████████████████▊    | 276 kB 5.3 MB/s eta 0:00:01\r\u001b[K     |████████████████████████████▊   | 286 kB 5.3 MB/s eta 0:00:01\r\u001b[K     |█████████████████████████████▊  | 296 kB 5.3 MB/s eta 0:00:01\r\u001b[K     |██████████████████████████████▊ | 307 kB 5.3 MB/s eta 0:00:01\r\u001b[K     |███████████████████████████████▉| 317 kB 5.3 MB/s eta 0:00:01\r\u001b[K     |████████████████████████████████| 319 kB 5.3 MB/s \n",
            "\u001b[?25hRequirement already satisfied: scipy>=0.14 in /usr/local/lib/python3.7/dist-packages (from Keras==2.1.3) (1.4.1)\n",
            "Requirement already satisfied: pyyaml in /usr/local/lib/python3.7/dist-packages (from Keras==2.1.3) (3.13)\n",
            "Requirement already satisfied: numpy>=1.9.1 in /usr/local/lib/python3.7/dist-packages (from Keras==2.1.3) (1.19.5)\n",
            "Requirement already satisfied: six>=1.9.0 in /usr/local/lib/python3.7/dist-packages (from Keras==2.1.3) (1.15.0)\n",
            "Installing collected packages: Keras\n",
            "  Attempting uninstall: Keras\n",
            "    Found existing installation: keras 2.6.0\n",
            "    Uninstalling keras-2.6.0:\n",
            "      Successfully uninstalled keras-2.6.0\n",
            "Successfully installed Keras-2.1.3\n"
          ]
        }
      ]
    },
    {
      "cell_type": "code",
      "metadata": {
        "colab": {
          "base_uri": "https://localhost:8080/"
        },
        "id": "UetGkmFykdDC",
        "outputId": "033457c7-7fed-4797-d0b5-e81f38348ec8"
      },
      "source": [
        "!pip install h5py==2.10.0"
      ],
      "execution_count": 6,
      "outputs": [
        {
          "output_type": "stream",
          "name": "stdout",
          "text": [
            "Requirement already satisfied: h5py==2.10.0 in /usr/local/lib/python3.7/dist-packages (2.10.0)\n",
            "Requirement already satisfied: six in /usr/local/lib/python3.7/dist-packages (from h5py==2.10.0) (1.15.0)\n",
            "Requirement already satisfied: numpy>=1.7 in /usr/local/lib/python3.7/dist-packages (from h5py==2.10.0) (1.19.5)\n"
          ]
        }
      ]
    },
    {
      "cell_type": "markdown",
      "metadata": {
        "id": "P67bcxh8sanh"
      },
      "source": [
        "### train LightCNN"
      ]
    },
    {
      "cell_type": "code",
      "metadata": {
        "id": "oGSVL4YmAbid"
      },
      "source": [
        "from keras.optimizers import SGD\n",
        "from light_cnn import LightCNN\n",
        "import celeb_gen\n",
        "\n",
        "datagen = celeb_gen.Datagen('/content/drive/MyDrive/lightcnn_train/')\n",
        "lcnn = LightCNN(classes=datagen.get_classes())\n",
        "train_gen = datagen.get_generator('train', batch_size=64)\n",
        "datagen.get_classes()\n",
        "lcnn.train(train_gen=train_gen, valid_gen=train_gen,\n",
        "           optimizer=SGD(lr=0.001, momentum=0.9, decay=0.00004, nesterov=True),\n",
        "           classifier_dropout=0.5, steps_per_epoch=100, validation_steps=100,\n",
        "           epochs=1, out_prefix=\"SOME/PREFIX_\", out_period=5)"
      ],
      "execution_count": null,
      "outputs": []
    },
    {
      "cell_type": "markdown",
      "metadata": {
        "id": "VxL6iYxrsXEh"
      },
      "source": [
        "### evaluate pix2pix model"
      ]
    },
    {
      "cell_type": "code",
      "metadata": {
        "id": "fb7BS69zBkT9",
        "colab": {
          "base_uri": "https://localhost:8080/"
        },
        "outputId": "d934149f-0061-4ac4-f5e6-2f3831d8fde2"
      },
      "source": [
        "from light_cnn import LightCNN\n",
        "import celeb_gen\n",
        "\n",
        "datagen = celeb_gen.Datagen('/content/drive/MyDrive/pix2pix_eval/')\n",
        "lcnn = LightCNN(classes=datagen.get_classes(),\n",
        "                extractor_weights = 'SOME/extract_25.hdf5',\n",
        "                classifier_weights = 'SOME/classify_25.hdf5')\n",
        "\n",
        "test_gen = datagen.get_generator('test', batch_size=64)\n",
        "score = lcnn.evaluate(test_gen, steps=100)\n",
        "print(score)"
      ],
      "execution_count": 14,
      "outputs": [
        {
          "output_type": "stream",
          "name": "stdout",
          "text": [
            "Model: \"extract29v2\"\n",
            "__________________________________________________________________________________________________\n",
            "Layer (type)                    Output Shape         Param #     Connected to                     \n",
            "==================================================================================================\n",
            "input_13 (InputLayer)           (None, 128, 128, 1)  0                                            \n",
            "__________________________________________________________________________________________________\n",
            "extract29v2_mfm1_conv2d1 (Conv2 (None, 128, 128, 96) 2496        input_13[0][0]                   \n",
            "__________________________________________________________________________________________________\n",
            "lambda_349 (Lambda)             (None, 128, 128, 48) 0           extract29v2_mfm1_conv2d1[0][0]   \n",
            "__________________________________________________________________________________________________\n",
            "lambda_350 (Lambda)             (None, 128, 128, 48) 0           extract29v2_mfm1_conv2d1[0][0]   \n",
            "__________________________________________________________________________________________________\n",
            "maximum_175 (Maximum)           (None, 128, 128, 48) 0           lambda_349[0][0]                 \n",
            "                                                                 lambda_350[0][0]                 \n",
            "__________________________________________________________________________________________________\n",
            "max_pooling2d_25 (MaxPooling2D) (None, 64, 64, 48)   0           maximum_175[0][0]                \n",
            "__________________________________________________________________________________________________\n",
            "average_pooling2d_25 (AveragePo (None, 64, 64, 48)   0           maximum_175[0][0]                \n",
            "__________________________________________________________________________________________________\n",
            "average_25 (Average)            (None, 64, 64, 48)   0           max_pooling2d_25[0][0]           \n",
            "                                                                 average_pooling2d_25[0][0]       \n",
            "__________________________________________________________________________________________________\n",
            "extract29v2_layers1_block0_mfm1 (None, 64, 64, 96)   41568       average_25[0][0]                 \n",
            "__________________________________________________________________________________________________\n",
            "lambda_351 (Lambda)             (None, 64, 64, 48)   0           extract29v2_layers1_block0_mfm1_c\n",
            "__________________________________________________________________________________________________\n",
            "lambda_352 (Lambda)             (None, 64, 64, 48)   0           extract29v2_layers1_block0_mfm1_c\n",
            "__________________________________________________________________________________________________\n",
            "maximum_176 (Maximum)           (None, 64, 64, 48)   0           lambda_351[0][0]                 \n",
            "                                                                 lambda_352[0][0]                 \n",
            "__________________________________________________________________________________________________\n",
            "extract29v2_layers1_block0_mfm2 (None, 64, 64, 96)   41568       maximum_176[0][0]                \n",
            "__________________________________________________________________________________________________\n",
            "lambda_353 (Lambda)             (None, 64, 64, 48)   0           extract29v2_layers1_block0_mfm2_c\n",
            "__________________________________________________________________________________________________\n",
            "lambda_354 (Lambda)             (None, 64, 64, 48)   0           extract29v2_layers1_block0_mfm2_c\n",
            "__________________________________________________________________________________________________\n",
            "maximum_177 (Maximum)           (None, 64, 64, 48)   0           lambda_353[0][0]                 \n",
            "                                                                 lambda_354[0][0]                 \n",
            "__________________________________________________________________________________________________\n",
            "add_61 (Add)                    (None, 64, 64, 48)   0           maximum_177[0][0]                \n",
            "                                                                 average_25[0][0]                 \n",
            "__________________________________________________________________________________________________\n",
            "extract29v2_group1_mfm1_conv2d1 (None, 64, 64, 96)   4704        add_61[0][0]                     \n",
            "__________________________________________________________________________________________________\n",
            "lambda_355 (Lambda)             (None, 64, 64, 48)   0           extract29v2_group1_mfm1_conv2d1[0\n",
            "__________________________________________________________________________________________________\n",
            "lambda_356 (Lambda)             (None, 64, 64, 48)   0           extract29v2_group1_mfm1_conv2d1[0\n",
            "__________________________________________________________________________________________________\n",
            "maximum_178 (Maximum)           (None, 64, 64, 48)   0           lambda_355[0][0]                 \n",
            "                                                                 lambda_356[0][0]                 \n",
            "__________________________________________________________________________________________________\n",
            "extract29v2_group1_mfm2_conv2d1 (None, 64, 64, 192)  83136       maximum_178[0][0]                \n",
            "__________________________________________________________________________________________________\n",
            "lambda_357 (Lambda)             (None, 64, 64, 96)   0           extract29v2_group1_mfm2_conv2d1[0\n",
            "__________________________________________________________________________________________________\n",
            "lambda_358 (Lambda)             (None, 64, 64, 96)   0           extract29v2_group1_mfm2_conv2d1[0\n",
            "__________________________________________________________________________________________________\n",
            "maximum_179 (Maximum)           (None, 64, 64, 96)   0           lambda_357[0][0]                 \n",
            "                                                                 lambda_358[0][0]                 \n",
            "__________________________________________________________________________________________________\n",
            "max_pooling2d_26 (MaxPooling2D) (None, 32, 32, 96)   0           maximum_179[0][0]                \n",
            "__________________________________________________________________________________________________\n",
            "average_pooling2d_26 (AveragePo (None, 32, 32, 96)   0           maximum_179[0][0]                \n",
            "__________________________________________________________________________________________________\n",
            "average_26 (Average)            (None, 32, 32, 96)   0           max_pooling2d_26[0][0]           \n",
            "                                                                 average_pooling2d_26[0][0]       \n",
            "__________________________________________________________________________________________________\n",
            "extract29v2_layers2_block0_mfm1 (None, 32, 32, 192)  166080      average_26[0][0]                 \n",
            "__________________________________________________________________________________________________\n",
            "lambda_359 (Lambda)             (None, 32, 32, 96)   0           extract29v2_layers2_block0_mfm1_c\n",
            "__________________________________________________________________________________________________\n",
            "lambda_360 (Lambda)             (None, 32, 32, 96)   0           extract29v2_layers2_block0_mfm1_c\n",
            "__________________________________________________________________________________________________\n",
            "maximum_180 (Maximum)           (None, 32, 32, 96)   0           lambda_359[0][0]                 \n",
            "                                                                 lambda_360[0][0]                 \n",
            "__________________________________________________________________________________________________\n",
            "extract29v2_layers2_block0_mfm2 (None, 32, 32, 192)  166080      maximum_180[0][0]                \n",
            "__________________________________________________________________________________________________\n",
            "lambda_361 (Lambda)             (None, 32, 32, 96)   0           extract29v2_layers2_block0_mfm2_c\n",
            "__________________________________________________________________________________________________\n",
            "lambda_362 (Lambda)             (None, 32, 32, 96)   0           extract29v2_layers2_block0_mfm2_c\n",
            "__________________________________________________________________________________________________\n",
            "maximum_181 (Maximum)           (None, 32, 32, 96)   0           lambda_361[0][0]                 \n",
            "                                                                 lambda_362[0][0]                 \n",
            "__________________________________________________________________________________________________\n",
            "add_62 (Add)                    (None, 32, 32, 96)   0           maximum_181[0][0]                \n",
            "                                                                 average_26[0][0]                 \n",
            "__________________________________________________________________________________________________\n",
            "extract29v2_layers2_block1_mfm1 (None, 32, 32, 192)  166080      add_62[0][0]                     \n",
            "__________________________________________________________________________________________________\n",
            "lambda_363 (Lambda)             (None, 32, 32, 96)   0           extract29v2_layers2_block1_mfm1_c\n",
            "__________________________________________________________________________________________________\n",
            "lambda_364 (Lambda)             (None, 32, 32, 96)   0           extract29v2_layers2_block1_mfm1_c\n",
            "__________________________________________________________________________________________________\n",
            "maximum_182 (Maximum)           (None, 32, 32, 96)   0           lambda_363[0][0]                 \n",
            "                                                                 lambda_364[0][0]                 \n",
            "__________________________________________________________________________________________________\n",
            "extract29v2_layers2_block1_mfm2 (None, 32, 32, 192)  166080      maximum_182[0][0]                \n",
            "__________________________________________________________________________________________________\n",
            "lambda_365 (Lambda)             (None, 32, 32, 96)   0           extract29v2_layers2_block1_mfm2_c\n",
            "__________________________________________________________________________________________________\n",
            "lambda_366 (Lambda)             (None, 32, 32, 96)   0           extract29v2_layers2_block1_mfm2_c\n",
            "__________________________________________________________________________________________________\n",
            "maximum_183 (Maximum)           (None, 32, 32, 96)   0           lambda_365[0][0]                 \n",
            "                                                                 lambda_366[0][0]                 \n",
            "__________________________________________________________________________________________________\n",
            "add_63 (Add)                    (None, 32, 32, 96)   0           maximum_183[0][0]                \n",
            "                                                                 add_62[0][0]                     \n",
            "__________________________________________________________________________________________________\n",
            "extract29v2_group2_mfm1_conv2d1 (None, 32, 32, 192)  18624       add_63[0][0]                     \n",
            "__________________________________________________________________________________________________\n",
            "lambda_367 (Lambda)             (None, 32, 32, 96)   0           extract29v2_group2_mfm1_conv2d1[0\n",
            "__________________________________________________________________________________________________\n",
            "lambda_368 (Lambda)             (None, 32, 32, 96)   0           extract29v2_group2_mfm1_conv2d1[0\n",
            "__________________________________________________________________________________________________\n",
            "maximum_184 (Maximum)           (None, 32, 32, 96)   0           lambda_367[0][0]                 \n",
            "                                                                 lambda_368[0][0]                 \n",
            "__________________________________________________________________________________________________\n",
            "extract29v2_group2_mfm2_conv2d1 (None, 32, 32, 384)  332160      maximum_184[0][0]                \n",
            "__________________________________________________________________________________________________\n",
            "lambda_369 (Lambda)             (None, 32, 32, 192)  0           extract29v2_group2_mfm2_conv2d1[0\n",
            "__________________________________________________________________________________________________\n",
            "lambda_370 (Lambda)             (None, 32, 32, 192)  0           extract29v2_group2_mfm2_conv2d1[0\n",
            "__________________________________________________________________________________________________\n",
            "maximum_185 (Maximum)           (None, 32, 32, 192)  0           lambda_369[0][0]                 \n",
            "                                                                 lambda_370[0][0]                 \n",
            "__________________________________________________________________________________________________\n",
            "max_pooling2d_27 (MaxPooling2D) (None, 16, 16, 192)  0           maximum_185[0][0]                \n",
            "__________________________________________________________________________________________________\n",
            "average_pooling2d_27 (AveragePo (None, 16, 16, 192)  0           maximum_185[0][0]                \n",
            "__________________________________________________________________________________________________\n",
            "average_27 (Average)            (None, 16, 16, 192)  0           max_pooling2d_27[0][0]           \n",
            "                                                                 average_pooling2d_27[0][0]       \n",
            "__________________________________________________________________________________________________\n",
            "extract29v2_layers3_block0_mfm1 (None, 16, 16, 384)  663936      average_27[0][0]                 \n",
            "__________________________________________________________________________________________________\n",
            "lambda_371 (Lambda)             (None, 16, 16, 192)  0           extract29v2_layers3_block0_mfm1_c\n",
            "__________________________________________________________________________________________________\n",
            "lambda_372 (Lambda)             (None, 16, 16, 192)  0           extract29v2_layers3_block0_mfm1_c\n",
            "__________________________________________________________________________________________________\n",
            "maximum_186 (Maximum)           (None, 16, 16, 192)  0           lambda_371[0][0]                 \n",
            "                                                                 lambda_372[0][0]                 \n",
            "__________________________________________________________________________________________________\n",
            "extract29v2_layers3_block0_mfm2 (None, 16, 16, 384)  663936      maximum_186[0][0]                \n",
            "__________________________________________________________________________________________________\n",
            "lambda_373 (Lambda)             (None, 16, 16, 192)  0           extract29v2_layers3_block0_mfm2_c\n",
            "__________________________________________________________________________________________________\n",
            "lambda_374 (Lambda)             (None, 16, 16, 192)  0           extract29v2_layers3_block0_mfm2_c\n",
            "__________________________________________________________________________________________________\n",
            "maximum_187 (Maximum)           (None, 16, 16, 192)  0           lambda_373[0][0]                 \n",
            "                                                                 lambda_374[0][0]                 \n",
            "__________________________________________________________________________________________________\n",
            "add_64 (Add)                    (None, 16, 16, 192)  0           maximum_187[0][0]                \n",
            "                                                                 average_27[0][0]                 \n",
            "__________________________________________________________________________________________________\n",
            "extract29v2_layers3_block1_mfm1 (None, 16, 16, 384)  663936      add_64[0][0]                     \n",
            "__________________________________________________________________________________________________\n",
            "lambda_375 (Lambda)             (None, 16, 16, 192)  0           extract29v2_layers3_block1_mfm1_c\n",
            "__________________________________________________________________________________________________\n",
            "lambda_376 (Lambda)             (None, 16, 16, 192)  0           extract29v2_layers3_block1_mfm1_c\n",
            "__________________________________________________________________________________________________\n",
            "maximum_188 (Maximum)           (None, 16, 16, 192)  0           lambda_375[0][0]                 \n",
            "                                                                 lambda_376[0][0]                 \n",
            "__________________________________________________________________________________________________\n",
            "extract29v2_layers3_block1_mfm2 (None, 16, 16, 384)  663936      maximum_188[0][0]                \n",
            "__________________________________________________________________________________________________\n",
            "lambda_377 (Lambda)             (None, 16, 16, 192)  0           extract29v2_layers3_block1_mfm2_c\n",
            "__________________________________________________________________________________________________\n",
            "lambda_378 (Lambda)             (None, 16, 16, 192)  0           extract29v2_layers3_block1_mfm2_c\n",
            "__________________________________________________________________________________________________\n",
            "maximum_189 (Maximum)           (None, 16, 16, 192)  0           lambda_377[0][0]                 \n",
            "                                                                 lambda_378[0][0]                 \n",
            "__________________________________________________________________________________________________\n",
            "add_65 (Add)                    (None, 16, 16, 192)  0           maximum_189[0][0]                \n",
            "                                                                 add_64[0][0]                     \n",
            "__________________________________________________________________________________________________\n",
            "extract29v2_layers3_block2_mfm1 (None, 16, 16, 384)  663936      add_65[0][0]                     \n",
            "__________________________________________________________________________________________________\n",
            "lambda_379 (Lambda)             (None, 16, 16, 192)  0           extract29v2_layers3_block2_mfm1_c\n",
            "__________________________________________________________________________________________________\n",
            "lambda_380 (Lambda)             (None, 16, 16, 192)  0           extract29v2_layers3_block2_mfm1_c\n",
            "__________________________________________________________________________________________________\n",
            "maximum_190 (Maximum)           (None, 16, 16, 192)  0           lambda_379[0][0]                 \n",
            "                                                                 lambda_380[0][0]                 \n",
            "__________________________________________________________________________________________________\n",
            "extract29v2_layers3_block2_mfm2 (None, 16, 16, 384)  663936      maximum_190[0][0]                \n",
            "__________________________________________________________________________________________________\n",
            "lambda_381 (Lambda)             (None, 16, 16, 192)  0           extract29v2_layers3_block2_mfm2_c\n",
            "__________________________________________________________________________________________________\n",
            "lambda_382 (Lambda)             (None, 16, 16, 192)  0           extract29v2_layers3_block2_mfm2_c\n",
            "__________________________________________________________________________________________________\n",
            "maximum_191 (Maximum)           (None, 16, 16, 192)  0           lambda_381[0][0]                 \n",
            "                                                                 lambda_382[0][0]                 \n",
            "__________________________________________________________________________________________________\n",
            "add_66 (Add)                    (None, 16, 16, 192)  0           maximum_191[0][0]                \n",
            "                                                                 add_65[0][0]                     \n",
            "__________________________________________________________________________________________________\n",
            "extract29v2_group3_mfm1_conv2d1 (None, 16, 16, 384)  74112       add_66[0][0]                     \n",
            "__________________________________________________________________________________________________\n",
            "lambda_383 (Lambda)             (None, 16, 16, 192)  0           extract29v2_group3_mfm1_conv2d1[0\n",
            "__________________________________________________________________________________________________\n",
            "lambda_384 (Lambda)             (None, 16, 16, 192)  0           extract29v2_group3_mfm1_conv2d1[0\n",
            "__________________________________________________________________________________________________\n",
            "maximum_192 (Maximum)           (None, 16, 16, 192)  0           lambda_383[0][0]                 \n",
            "                                                                 lambda_384[0][0]                 \n",
            "__________________________________________________________________________________________________\n",
            "extract29v2_group3_mfm2_conv2d1 (None, 16, 16, 256)  442624      maximum_192[0][0]                \n",
            "__________________________________________________________________________________________________\n",
            "lambda_385 (Lambda)             (None, 16, 16, 128)  0           extract29v2_group3_mfm2_conv2d1[0\n",
            "__________________________________________________________________________________________________\n",
            "lambda_386 (Lambda)             (None, 16, 16, 128)  0           extract29v2_group3_mfm2_conv2d1[0\n",
            "__________________________________________________________________________________________________\n",
            "maximum_193 (Maximum)           (None, 16, 16, 128)  0           lambda_385[0][0]                 \n",
            "                                                                 lambda_386[0][0]                 \n",
            "__________________________________________________________________________________________________\n",
            "extract29v2_layers4_block0_mfm1 (None, 16, 16, 256)  295168      maximum_193[0][0]                \n",
            "__________________________________________________________________________________________________\n",
            "lambda_387 (Lambda)             (None, 16, 16, 128)  0           extract29v2_layers4_block0_mfm1_c\n",
            "__________________________________________________________________________________________________\n",
            "lambda_388 (Lambda)             (None, 16, 16, 128)  0           extract29v2_layers4_block0_mfm1_c\n",
            "__________________________________________________________________________________________________\n",
            "maximum_194 (Maximum)           (None, 16, 16, 128)  0           lambda_387[0][0]                 \n",
            "                                                                 lambda_388[0][0]                 \n",
            "__________________________________________________________________________________________________\n",
            "extract29v2_layers4_block0_mfm2 (None, 16, 16, 256)  295168      maximum_194[0][0]                \n",
            "__________________________________________________________________________________________________\n",
            "lambda_389 (Lambda)             (None, 16, 16, 128)  0           extract29v2_layers4_block0_mfm2_c\n",
            "__________________________________________________________________________________________________\n",
            "lambda_390 (Lambda)             (None, 16, 16, 128)  0           extract29v2_layers4_block0_mfm2_c\n",
            "__________________________________________________________________________________________________\n",
            "maximum_195 (Maximum)           (None, 16, 16, 128)  0           lambda_389[0][0]                 \n",
            "                                                                 lambda_390[0][0]                 \n",
            "__________________________________________________________________________________________________\n",
            "add_67 (Add)                    (None, 16, 16, 128)  0           maximum_195[0][0]                \n",
            "                                                                 maximum_193[0][0]                \n",
            "__________________________________________________________________________________________________\n",
            "extract29v2_layers4_block1_mfm1 (None, 16, 16, 256)  295168      add_67[0][0]                     \n",
            "__________________________________________________________________________________________________\n",
            "lambda_391 (Lambda)             (None, 16, 16, 128)  0           extract29v2_layers4_block1_mfm1_c\n",
            "__________________________________________________________________________________________________\n",
            "lambda_392 (Lambda)             (None, 16, 16, 128)  0           extract29v2_layers4_block1_mfm1_c\n",
            "__________________________________________________________________________________________________\n",
            "maximum_196 (Maximum)           (None, 16, 16, 128)  0           lambda_391[0][0]                 \n",
            "                                                                 lambda_392[0][0]                 \n",
            "__________________________________________________________________________________________________\n",
            "extract29v2_layers4_block1_mfm2 (None, 16, 16, 256)  295168      maximum_196[0][0]                \n",
            "__________________________________________________________________________________________________\n",
            "lambda_393 (Lambda)             (None, 16, 16, 128)  0           extract29v2_layers4_block1_mfm2_c\n",
            "__________________________________________________________________________________________________\n",
            "lambda_394 (Lambda)             (None, 16, 16, 128)  0           extract29v2_layers4_block1_mfm2_c\n",
            "__________________________________________________________________________________________________\n",
            "maximum_197 (Maximum)           (None, 16, 16, 128)  0           lambda_393[0][0]                 \n",
            "                                                                 lambda_394[0][0]                 \n",
            "__________________________________________________________________________________________________\n",
            "add_68 (Add)                    (None, 16, 16, 128)  0           maximum_197[0][0]                \n",
            "                                                                 add_67[0][0]                     \n",
            "__________________________________________________________________________________________________\n",
            "extract29v2_layers4_block2_mfm1 (None, 16, 16, 256)  295168      add_68[0][0]                     \n",
            "__________________________________________________________________________________________________\n",
            "lambda_395 (Lambda)             (None, 16, 16, 128)  0           extract29v2_layers4_block2_mfm1_c\n",
            "__________________________________________________________________________________________________\n",
            "lambda_396 (Lambda)             (None, 16, 16, 128)  0           extract29v2_layers4_block2_mfm1_c\n",
            "__________________________________________________________________________________________________\n",
            "maximum_198 (Maximum)           (None, 16, 16, 128)  0           lambda_395[0][0]                 \n",
            "                                                                 lambda_396[0][0]                 \n",
            "__________________________________________________________________________________________________\n",
            "extract29v2_layers4_block2_mfm2 (None, 16, 16, 256)  295168      maximum_198[0][0]                \n",
            "__________________________________________________________________________________________________\n",
            "lambda_397 (Lambda)             (None, 16, 16, 128)  0           extract29v2_layers4_block2_mfm2_c\n",
            "__________________________________________________________________________________________________\n",
            "lambda_398 (Lambda)             (None, 16, 16, 128)  0           extract29v2_layers4_block2_mfm2_c\n",
            "__________________________________________________________________________________________________\n",
            "maximum_199 (Maximum)           (None, 16, 16, 128)  0           lambda_397[0][0]                 \n",
            "                                                                 lambda_398[0][0]                 \n",
            "__________________________________________________________________________________________________\n",
            "add_69 (Add)                    (None, 16, 16, 128)  0           maximum_199[0][0]                \n",
            "                                                                 add_68[0][0]                     \n",
            "__________________________________________________________________________________________________\n",
            "extract29v2_layers4_block3_mfm1 (None, 16, 16, 256)  295168      add_69[0][0]                     \n",
            "__________________________________________________________________________________________________\n",
            "lambda_399 (Lambda)             (None, 16, 16, 128)  0           extract29v2_layers4_block3_mfm1_c\n",
            "__________________________________________________________________________________________________\n",
            "lambda_400 (Lambda)             (None, 16, 16, 128)  0           extract29v2_layers4_block3_mfm1_c\n",
            "__________________________________________________________________________________________________\n",
            "maximum_200 (Maximum)           (None, 16, 16, 128)  0           lambda_399[0][0]                 \n",
            "                                                                 lambda_400[0][0]                 \n",
            "__________________________________________________________________________________________________\n",
            "extract29v2_layers4_block3_mfm2 (None, 16, 16, 256)  295168      maximum_200[0][0]                \n",
            "__________________________________________________________________________________________________\n",
            "lambda_401 (Lambda)             (None, 16, 16, 128)  0           extract29v2_layers4_block3_mfm2_c\n",
            "__________________________________________________________________________________________________\n",
            "lambda_402 (Lambda)             (None, 16, 16, 128)  0           extract29v2_layers4_block3_mfm2_c\n",
            "__________________________________________________________________________________________________\n",
            "maximum_201 (Maximum)           (None, 16, 16, 128)  0           lambda_401[0][0]                 \n",
            "                                                                 lambda_402[0][0]                 \n",
            "__________________________________________________________________________________________________\n",
            "add_70 (Add)                    (None, 16, 16, 128)  0           maximum_201[0][0]                \n",
            "                                                                 add_69[0][0]                     \n",
            "__________________________________________________________________________________________________\n",
            "extract29v2_group4_mfm1_conv2d1 (None, 16, 16, 256)  33024       add_70[0][0]                     \n",
            "__________________________________________________________________________________________________\n",
            "lambda_403 (Lambda)             (None, 16, 16, 128)  0           extract29v2_group4_mfm1_conv2d1[0\n",
            "__________________________________________________________________________________________________\n",
            "lambda_404 (Lambda)             (None, 16, 16, 128)  0           extract29v2_group4_mfm1_conv2d1[0\n",
            "__________________________________________________________________________________________________\n",
            "maximum_202 (Maximum)           (None, 16, 16, 128)  0           lambda_403[0][0]                 \n",
            "                                                                 lambda_404[0][0]                 \n",
            "__________________________________________________________________________________________________\n",
            "extract29v2_group4_mfm2_conv2d1 (None, 16, 16, 256)  295168      maximum_202[0][0]                \n",
            "__________________________________________________________________________________________________\n",
            "lambda_405 (Lambda)             (None, 16, 16, 128)  0           extract29v2_group4_mfm2_conv2d1[0\n",
            "__________________________________________________________________________________________________\n",
            "lambda_406 (Lambda)             (None, 16, 16, 128)  0           extract29v2_group4_mfm2_conv2d1[0\n",
            "__________________________________________________________________________________________________\n",
            "maximum_203 (Maximum)           (None, 16, 16, 128)  0           lambda_405[0][0]                 \n",
            "                                                                 lambda_406[0][0]                 \n",
            "__________________________________________________________________________________________________\n",
            "max_pooling2d_28 (MaxPooling2D) (None, 8, 8, 128)    0           maximum_203[0][0]                \n",
            "__________________________________________________________________________________________________\n",
            "average_pooling2d_28 (AveragePo (None, 8, 8, 128)    0           maximum_203[0][0]                \n",
            "__________________________________________________________________________________________________\n",
            "average_28 (Average)            (None, 8, 8, 128)    0           max_pooling2d_28[0][0]           \n",
            "                                                                 average_pooling2d_28[0][0]       \n",
            "__________________________________________________________________________________________________\n",
            "flatten_7 (Flatten)             (None, 8192)         0           average_28[0][0]                 \n",
            "__________________________________________________________________________________________________\n",
            "extract29v2_dense1 (Dense)      (None, 256)          2097408     flatten_7[0][0]                  \n",
            "==================================================================================================\n",
            "Total params: 10,475,872\n",
            "Trainable params: 10,475,872\n",
            "Non-trainable params: 0\n",
            "__________________________________________________________________________________________________\n",
            "Model: \"classify\"\n",
            "_________________________________________________________________\n",
            "Layer (type)                 Output Shape              Param #   \n",
            "=================================================================\n",
            "input_14 (InputLayer)        (None, 256)               0         \n",
            "_________________________________________________________________\n",
            "dropout_7 (Dropout)          (None, 256)               0         \n",
            "_________________________________________________________________\n",
            "classify_dense1 (Dense)      (None, 50)                12800     \n",
            "=================================================================\n",
            "Total params: 12,800\n",
            "Trainable params: 12,800\n",
            "Non-trainable params: 0\n",
            "_________________________________________________________________\n",
            "Model: \"sequential_7\"\n",
            "_________________________________________________________________\n",
            "Layer (type)                 Output Shape              Param #   \n",
            "=================================================================\n",
            "extract29v2 (Model)          (None, 256)               10475872  \n",
            "_________________________________________________________________\n",
            "classify (Model)             (None, 50)                12800     \n",
            "=================================================================\n",
            "Total params: 10,488,672\n",
            "Trainable params: 10,488,672\n",
            "Non-trainable params: 0\n",
            "_________________________________________________________________\n",
            "Found 1000 images belonging to 50 classes.\n",
            "{'loss': 8.108162879943848, 'acc': 0.5297314524650574}\n"
          ]
        }
      ]
    },
    {
      "cell_type": "code",
      "metadata": {
        "id": "5KPUW-_L7dZB"
      },
      "source": [
        ""
      ],
      "execution_count": null,
      "outputs": []
    }
  ]
}